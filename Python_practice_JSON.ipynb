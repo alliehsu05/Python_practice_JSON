{
 "cells": [
  {
   "cell_type": "markdown",
   "metadata": {},
   "source": [
    "# JSON in Python"
   ]
  },
  {
   "cell_type": "code",
   "execution_count": 1,
   "metadata": {},
   "outputs": [],
   "source": [
    "example_string = '''\n",
    "{\n",
    "    \"customers\": [\n",
    "        {\n",
    "            \"userid\": 123456,\n",
    "            \"username\": \"Allie Hsu\",\n",
    "            \"phone\": [\n",
    "                \"000-001-0002\",\n",
    "                \"000-002-0002\"\n",
    "            ],\n",
    "            \"is_vip\": true\n",
    "        },\n",
    "        {\n",
    "            \"userid\": 223678,\n",
    "            \"username\": \"Donald Duck\",\n",
    "            \"phone\": null,\n",
    "            \"is_vip\": false\n",
    "        }\n",
    "    ]\n",
    "}\n",
    "'''"
   ]
  },
  {
   "cell_type": "code",
   "execution_count": 2,
   "metadata": {},
   "outputs": [
    {
     "name": "stdout",
     "output_type": "stream",
     "text": [
      "{'customers': [{'userid': 123456, 'username': 'Allie Hsu', 'phone': ['000-001-0002', '000-002-0002'], 'is_vip': True}, {'userid': 223678, 'username': 'Donald Duck', 'phone': None, 'is_vip': False}]}\n",
      "<class 'dict'>\n"
     ]
    }
   ],
   "source": [
    "import json\n",
    "\n",
    "transfered_json_data = json.loads(example_string)\n",
    "print(transfered_json_data)\n",
    "print(type(transfered_json_data))"
   ]
  },
  {
   "cell_type": "code",
   "execution_count": 3,
   "metadata": {},
   "outputs": [
    {
     "name": "stdout",
     "output_type": "stream",
     "text": [
      "<class 'list'>\n"
     ]
    }
   ],
   "source": [
    "print(type(transfered_json_data['customers']))"
   ]
  },
  {
   "cell_type": "code",
   "execution_count": 4,
   "metadata": {},
   "outputs": [
    {
     "name": "stdout",
     "output_type": "stream",
     "text": [
      "Allie Hsu\n",
      "Welcome, VIP has a 10% discount on each product.\n",
      "Donald Duck\n",
      "Hey, no discount!\n"
     ]
    }
   ],
   "source": [
    "for item in transfered_json_data['customers']:\n",
    "    print(item['username'])\n",
    "    if item['is_vip'] :\n",
    "        print('Welcome, VIP has a 10% discount on each product.')\n",
    "    else:\n",
    "        print('Hey, no discount!')"
   ]
  },
  {
   "cell_type": "code",
   "execution_count": 8,
   "metadata": {},
   "outputs": [
    {
     "name": "stdout",
     "output_type": "stream",
     "text": [
      "{\"customers\": [{\"userid\": 123456, \"username\": \"Allie Hsu\", \"phone\": [\"000-001-0002\", \"000-002-0002\"], \"is_vip\": true}, {\"userid\": 223678, \"username\": \"Donald Duck\", \"phone\": null, \"is_vip\": false}]}\n",
      "<class 'str'>\n"
     ]
    }
   ],
   "source": [
    "transfered_string_data = json.dumps(transfered_json_data)\n",
    "print(transfered_string_data)\n",
    "print(type(transfered_string_data))"
   ]
  },
  {
   "cell_type": "code",
   "execution_count": 9,
   "metadata": {},
   "outputs": [
    {
     "name": "stdout",
     "output_type": "stream",
     "text": [
      "{\n",
      "  \"customers\": [\n",
      "    {\n",
      "      \"is_vip\": true,\n",
      "      \"phone\": [\n",
      "        \"000-001-0002\",\n",
      "        \"000-002-0002\"\n",
      "      ],\n",
      "      \"userid\": 123456,\n",
      "      \"username\": \"Allie Hsu\"\n",
      "    },\n",
      "    {\n",
      "      \"is_vip\": false,\n",
      "      \"phone\": null,\n",
      "      \"userid\": 223678,\n",
      "      \"username\": \"Donald Duck\"\n",
      "    }\n",
      "  ]\n",
      "}\n"
     ]
    }
   ],
   "source": [
    "transfered_string_data = json.dumps(transfered_json_data, indent=2, sort_keys=True)\n",
    "print(transfered_string_data)"
   ]
  },
  {
   "cell_type": "code",
   "execution_count": 12,
   "metadata": {},
   "outputs": [],
   "source": [
    "# read file as json document\n",
    "with open('example_data.json') as f:\n",
    "    data = json.load(f)\n",
    "    \n",
    "for member in data['customers']:\n",
    "    del member['is_vip']\n",
    "\n",
    "# write file as json document\n",
    "with open('new_data.json', 'w') as f:\n",
    "    json.dump(data, f, indent=2)"
   ]
  }
 ],
 "metadata": {
  "kernelspec": {
   "display_name": "Python 3",
   "language": "python",
   "name": "python3"
  },
  "language_info": {
   "codemirror_mode": {
    "name": "ipython",
    "version": 3
   },
   "file_extension": ".py",
   "mimetype": "text/x-python",
   "name": "python",
   "nbconvert_exporter": "python",
   "pygments_lexer": "ipython3",
   "version": "3.6.5"
  }
 },
 "nbformat": 4,
 "nbformat_minor": 2
}
